{
 "cells": [
  {
   "cell_type": "markdown",
   "id": "1c41c541-cff3-4b0c-90bd-3dd086a24828",
   "metadata": {},
   "source": [
    "# Jupyter Notebook - chess-board"
   ]
  },
  {
   "cell_type": "code",
   "execution_count": 25,
   "id": "4a9464eb-88e0-4f23-a037-b8830d68fd56",
   "metadata": {},
   "outputs": [],
   "source": [
    "import numpy as np\n",
    "\n",
    "%matplotlib inline\n",
    "import matplotlib.pyplot as plt"
   ]
  },
  {
   "cell_type": "code",
   "execution_count": 110,
   "id": "0a5485e8-83b6-4744-b8b6-e73ee7b89f1e",
   "metadata": {},
   "outputs": [],
   "source": [
    "class ChessBoard:\n",
    "    def __init__(self):\n",
    "        self.board = np.ones([8,8,3])\n",
    "        for i in np.ndindex(8,8):\n",
    "            \n",
    "            row = i[0]\n",
    "            col = i[1]\n",
    "            # if row%2 == 0 and col%2 ==1 or row%2 == 1 and col%2 ==0:\n",
    "            if row%2  != col%2:\n",
    "                self.board[row,col]=[0,0,0]\n",
    "                \n",
    "            print(i,self.board[i])    \n",
    "    def add_red(self,row1,col):\n",
    "        row1 = int(input(\"enput row from 0-7\"))\n",
    "        col1 = int(input(\"enput col from 0-6\"))\n",
    "        self.board[row1,col1]=[1,0,0]\n",
    "        plt.imshow(self.board)\n",
    "    \n",
    "    row1=\"\"\n",
    "    row2=\"\"\n",
    "    col1=\"\"\n",
    "    col2=\"\"\n",
    "    def add_blue(self,row2,col2):\n",
    "        row2 = int(input(\"enput row from 0-7\"))\n",
    "        col2 = int(input(\"enput col from 0-6\"))\n",
    "        self.board[row2,col2]=[0,0,1]\n",
    "        plt.imshow(self.board)\n",
    "\n",
    "    def render(self):\n",
    "        plt.imshow(self.board)\n",
    "    \n",
    "    def is_diagonal(cell1,cell2):\n",
    "        pass\n",
    "    def is_under_attack(self):\n",
    "        if self.row1== self.row2:\n",
    "            print(True)\n",
    "        elif self.col1== self.col2:\n",
    "             print(True)\n",
    "                \n",
    "        elif self.col1==self.row1:\n",
    "            print(True)\n",
    "            \n",
    "        elif self.col2==self.row2:\n",
    "            print(True)"
   ]
  },
  {
   "cell_type": "code",
   "execution_count": 111,
   "id": "26ce2a55-9f2c-49c3-931c-8d34fa63d02f",
   "metadata": {},
   "outputs": [
    {
     "name": "stdout",
     "output_type": "stream",
     "text": [
      "(0, 0) [1. 1. 1.]\n",
      "(0, 1) [0. 0. 0.]\n",
      "(0, 2) [1. 1. 1.]\n",
      "(0, 3) [0. 0. 0.]\n",
      "(0, 4) [1. 1. 1.]\n",
      "(0, 5) [0. 0. 0.]\n",
      "(0, 6) [1. 1. 1.]\n",
      "(0, 7) [0. 0. 0.]\n",
      "(1, 0) [0. 0. 0.]\n",
      "(1, 1) [1. 1. 1.]\n",
      "(1, 2) [0. 0. 0.]\n",
      "(1, 3) [1. 1. 1.]\n",
      "(1, 4) [0. 0. 0.]\n",
      "(1, 5) [1. 1. 1.]\n",
      "(1, 6) [0. 0. 0.]\n",
      "(1, 7) [1. 1. 1.]\n",
      "(2, 0) [1. 1. 1.]\n",
      "(2, 1) [0. 0. 0.]\n",
      "(2, 2) [1. 1. 1.]\n",
      "(2, 3) [0. 0. 0.]\n",
      "(2, 4) [1. 1. 1.]\n",
      "(2, 5) [0. 0. 0.]\n",
      "(2, 6) [1. 1. 1.]\n",
      "(2, 7) [0. 0. 0.]\n",
      "(3, 0) [0. 0. 0.]\n",
      "(3, 1) [1. 1. 1.]\n",
      "(3, 2) [0. 0. 0.]\n",
      "(3, 3) [1. 1. 1.]\n",
      "(3, 4) [0. 0. 0.]\n",
      "(3, 5) [1. 1. 1.]\n",
      "(3, 6) [0. 0. 0.]\n",
      "(3, 7) [1. 1. 1.]\n",
      "(4, 0) [1. 1. 1.]\n",
      "(4, 1) [0. 0. 0.]\n",
      "(4, 2) [1. 1. 1.]\n",
      "(4, 3) [0. 0. 0.]\n",
      "(4, 4) [1. 1. 1.]\n",
      "(4, 5) [0. 0. 0.]\n",
      "(4, 6) [1. 1. 1.]\n",
      "(4, 7) [0. 0. 0.]\n",
      "(5, 0) [0. 0. 0.]\n",
      "(5, 1) [1. 1. 1.]\n",
      "(5, 2) [0. 0. 0.]\n",
      "(5, 3) [1. 1. 1.]\n",
      "(5, 4) [0. 0. 0.]\n",
      "(5, 5) [1. 1. 1.]\n",
      "(5, 6) [0. 0. 0.]\n",
      "(5, 7) [1. 1. 1.]\n",
      "(6, 0) [1. 1. 1.]\n",
      "(6, 1) [0. 0. 0.]\n",
      "(6, 2) [1. 1. 1.]\n",
      "(6, 3) [0. 0. 0.]\n",
      "(6, 4) [1. 1. 1.]\n",
      "(6, 5) [0. 0. 0.]\n",
      "(6, 6) [1. 1. 1.]\n",
      "(6, 7) [0. 0. 0.]\n",
      "(7, 0) [0. 0. 0.]\n",
      "(7, 1) [1. 1. 1.]\n",
      "(7, 2) [0. 0. 0.]\n",
      "(7, 3) [1. 1. 1.]\n",
      "(7, 4) [0. 0. 0.]\n",
      "(7, 5) [1. 1. 1.]\n",
      "(7, 6) [0. 0. 0.]\n",
      "(7, 7) [1. 1. 1.]\n"
     ]
    }
   ],
   "source": [
    "chess_board = ChessBoard()\n",
    "# chess_board.board"
   ]
  },
  {
   "cell_type": "code",
   "execution_count": 112,
   "id": "e656b905-2e36-4cb7-8541-71f6b5944fed",
   "metadata": {},
   "outputs": [
    {
     "data": {
      "image/png": "[encoded data removed]",
      "text/plain": [
       "<Figure size 432x288 with 1 Axes>"
      ]
     },
     "metadata": {
      "needs_background": "light"
     },
     "output_type": "display_data"
    }
   ],
   "source": [
    "chess_board.render()"
   ]
  },
  {
   "cell_type": "code",
   "execution_count": 113,
   "id": "7e83613f-97b5-4f70-9ecc-e18ff2a7ba84",
   "metadata": {},
   "outputs": [
    {
     "name": "stdout",
     "output_type": "stream",
     "text": [
      "enput row from 0-7 2\n",
      "enput col from 0-6 2\n"
     ]
    },
    {
     "data": {
      "image/png": "[encoded data removed]",
      "text/plain": [
       "<Figure size 432x288 with 1 Axes>"
      ]
     },
     "metadata": {
      "needs_background": "light"
     },
     "output_type": "display_data"
    }
   ],
   "source": [
    "chess_board.add_red(1,2)"
   ]
  },
  {
   "cell_type": "code",
   "execution_count": 114,
   "id": "8dd6ad72-c165-4142-956f-5659f08b8086",
   "metadata": {},
   "outputs": [
    {
     "name": "stdout",
     "output_type": "stream",
     "text": [
      "enput row from 0-7 1\n",
      "enput col from 0-6 5\n"
     ]
    },
    {
     "data": {
      "image/png": "[encoded data removed]",
      "text/plain": [
       "<Figure size 432x288 with 1 Axes>"
      ]
     },
     "metadata": {
      "needs_background": "light"
     },
     "output_type": "display_data"
    }
   ],
   "source": [
    "chess_board.add_blue(7,4)"
   ]
  },
  {
   "cell_type": "code",
   "execution_count": 115,
   "id": "f04eef0e-f80c-42b3-9993-a5a8a88df600",
   "metadata": {},
   "outputs": [
    {
     "name": "stdout",
     "output_type": "stream",
     "text": [
      "True\n"
     ]
    }
   ],
   "source": [
    "chess_board.is_under_attack()"
   ]
  }
 ],
 "metadata": {
  "kernelspec": {
   "display_name": "Python 3 (ipykernel)",
   "language": "python",
   "name": "python3"
  },
  "language_info": {
   "codemirror_mode": {
    "name": "ipython",
    "version": 3
   },
   "file_extension": ".py",
   "mimetype": "text/x-python",
   "name": "python",
   "nbconvert_exporter": "python",
   "pygments_lexer": "ipython3",
   "version": "3.9.5"
  }
 },
 "nbformat": 4,
 "nbformat_minor": 5
}
