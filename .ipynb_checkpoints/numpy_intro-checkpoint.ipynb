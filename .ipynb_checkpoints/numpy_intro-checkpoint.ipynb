{
 "cells": [
  {
   "cell_type": "code",
   "execution_count": 1,
   "id": "e19b1ea6-ee75-4968-8b86-6522137afdbd",
   "metadata": {},
   "outputs": [],
   "source": [
    "import numpy as np"
   ]
  },
  {
   "cell_type": "code",
   "execution_count": 2,
   "id": "af87005b-68b2-41b3-8b82-43977598b9d9",
   "metadata": {},
   "outputs": [
    {
     "data": {
      "text/plain": [
       "<module 'numpy' from '/home/ahmedalanasweh/chess-board/.venv/lib/python3.9/site-packages/numpy/__init__.py'>"
      ]
     },
     "execution_count": 2,
     "metadata": {},
     "output_type": "execute_result"
    }
   ],
   "source": [
    "np"
   ]
  },
  {
   "cell_type": "code",
   "execution_count": 3,
   "id": "0e4cd2b6-7c11-4e41-914e-c662c267d2ca",
   "metadata": {},
   "outputs": [],
   "source": [
    "nums=[2,3,4,5]"
   ]
  },
  {
   "cell_type": "code",
   "execution_count": 4,
   "id": "db70bc18-4db9-420e-bfb1-a372a72fe2aa",
   "metadata": {},
   "outputs": [],
   "source": [
    "nums_as_np=np.array(nums)"
   ]
  },
  {
   "cell_type": "code",
   "execution_count": 5,
   "id": "212ccf74-b754-459a-a3c2-99547ec9d856",
   "metadata": {},
   "outputs": [
    {
     "data": {
      "text/plain": [
       "array([2, 3, 4, 5])"
      ]
     },
     "execution_count": 5,
     "metadata": {},
     "output_type": "execute_result"
    }
   ],
   "source": [
    "nums_as_np"
   ]
  },
  {
   "cell_type": "code",
   "execution_count": 6,
   "id": "e477257b-4ac5-4f7c-b562-c1fba1a446f9",
   "metadata": {},
   "outputs": [
    {
     "data": {
      "text/plain": [
       "numpy.ndarray"
      ]
     },
     "execution_count": 6,
     "metadata": {},
     "output_type": "execute_result"
    }
   ],
   "source": [
    "type(nums_as_np)"
   ]
  },
  {
   "cell_type": "code",
   "execution_count": null,
   "id": "07d4f909-24e4-49f0-b8a7-6898f9d83308",
   "metadata": {},
   "outputs": [],
   "source": [
    "two_dim_array = np.array([[2,2,2],[3,3,3]])"
   ]
  }
 ],
 "metadata": {
  "kernelspec": {
   "display_name": "Python 3 (ipykernel)",
   "language": "python",
   "name": "python3"
  },
  "language_info": {
   "codemirror_mode": {
    "name": "ipython",
    "version": 3
   },
   "file_extension": ".py",
   "mimetype": "text/x-python",
   "name": "python",
   "nbconvert_exporter": "python",
   "pygments_lexer": "ipython3",
   "version": "3.9.5"
  }
 },
 "nbformat": 4,
 "nbformat_minor": 5
}
