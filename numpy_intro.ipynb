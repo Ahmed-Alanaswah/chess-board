{
 "cells": [
  {
   "cell_type": "markdown",
   "id": "723c0752-11bc-4ba0-8867-2583b16e8da2",
   "metadata": {},
   "source": [
    "# intro to numpy"
   ]
  },
  {
   "cell_type": "code",
   "execution_count": 1,
   "id": "e19b1ea6-ee75-4968-8b86-6522137afdbd",
   "metadata": {},
   "outputs": [],
   "source": [
    "import numpy as np"
   ]
  },
  {
   "cell_type": "code",
   "execution_count": 2,
   "id": "af87005b-68b2-41b3-8b82-43977598b9d9",
   "metadata": {},
   "outputs": [
    {
     "data": {
      "text/plain": [
       "<module 'numpy' from '/home/ahmedalanasweh/chess-board/.venv/lib/python3.9/site-packages/numpy/__init__.py'>"
      ]
     },
     "execution_count": 2,
     "metadata": {},
     "output_type": "execute_result"
    }
   ],
   "source": [
    "np"
   ]
  },
  {
   "cell_type": "code",
   "execution_count": 3,
   "id": "0e4cd2b6-7c11-4e41-914e-c662c267d2ca",
   "metadata": {},
   "outputs": [],
   "source": [
    "nums=[2,3,4,5]"
   ]
  },
  {
   "cell_type": "code",
   "execution_count": 4,
   "id": "db70bc18-4db9-420e-bfb1-a372a72fe2aa",
   "metadata": {},
   "outputs": [],
   "source": [
    "nums_as_np=np.array(nums)"
   ]
  },
  {
   "cell_type": "code",
   "execution_count": 5,
   "id": "212ccf74-b754-459a-a3c2-99547ec9d856",
   "metadata": {},
   "outputs": [
    {
     "data": {
      "text/plain": [
       "array([2, 3, 4, 5])"
      ]
     },
     "execution_count": 5,
     "metadata": {},
     "output_type": "execute_result"
    }
   ],
   "source": [
    "nums_as_np"
   ]
  },
  {
   "cell_type": "code",
   "execution_count": 6,
   "id": "e477257b-4ac5-4f7c-b562-c1fba1a446f9",
   "metadata": {},
   "outputs": [
    {
     "data": {
      "text/plain": [
       "numpy.ndarray"
      ]
     },
     "execution_count": 6,
     "metadata": {},
     "output_type": "execute_result"
    }
   ],
   "source": [
    "type(nums_as_np)"
   ]
  },
  {
   "cell_type": "code",
   "execution_count": 13,
   "id": "07d4f909-24e4-49f0-b8a7-6898f9d83308",
   "metadata": {},
   "outputs": [],
   "source": [
    "two_dim_array = np.array([[2,2,5],[3,3,6]])"
   ]
  },
  {
   "cell_type": "code",
   "execution_count": 8,
   "id": "975e6108-775c-4254-8268-64360cbb0b9f",
   "metadata": {},
   "outputs": [
    {
     "data": {
      "text/plain": [
       "array([[2, 2, 2],\n",
       "       [3, 3, 3]])"
      ]
     },
     "execution_count": 8,
     "metadata": {},
     "output_type": "execute_result"
    }
   ],
   "source": [
    "two_dim_array "
   ]
  },
  {
   "cell_type": "code",
   "execution_count": 9,
   "id": "fc7877c8-fa5b-47a4-aa08-073f2c4205f8",
   "metadata": {},
   "outputs": [
    {
     "data": {
      "text/plain": [
       "(2, 3)"
      ]
     },
     "execution_count": 9,
     "metadata": {},
     "output_type": "execute_result"
    }
   ],
   "source": [
    "two_dim_array .shape"
   ]
  },
  {
   "cell_type": "code",
   "execution_count": 10,
   "id": "fdae4a43-d4e8-47e7-a1d6-89fdc58c6cc9",
   "metadata": {},
   "outputs": [
    {
     "data": {
      "text/plain": [
       "array([2, 2, 2])"
      ]
     },
     "execution_count": 10,
     "metadata": {},
     "output_type": "execute_result"
    }
   ],
   "source": [
    "two_dim_array[0]"
   ]
  },
  {
   "cell_type": "code",
   "execution_count": 11,
   "id": "c01af6b5-a11c-44c6-92bc-58137416598b",
   "metadata": {},
   "outputs": [
    {
     "data": {
      "text/plain": [
       "2"
      ]
     },
     "execution_count": 11,
     "metadata": {},
     "output_type": "execute_result"
    }
   ],
   "source": [
    "two_dim_array[0][1]"
   ]
  },
  {
   "cell_type": "code",
   "execution_count": 14,
   "id": "3c710ee9-492f-48dc-9cdd-54dad87d3636",
   "metadata": {},
   "outputs": [
    {
     "data": {
      "text/plain": [
       "array([5, 6])"
      ]
     },
     "execution_count": 14,
     "metadata": {},
     "output_type": "execute_result"
    }
   ],
   "source": [
    "two_dim_array[:,2]"
   ]
  },
  {
   "cell_type": "markdown",
   "id": "870ea3b6-e978-47da-91c5-8bc30ad19c67",
   "metadata": {},
   "source": [
    "# dealing with file"
   ]
  },
  {
   "cell_type": "code",
   "execution_count": 16,
   "id": "dc676135-3779-406c-9715-9f52ba4d847b",
   "metadata": {},
   "outputs": [
    {
     "name": "stdout",
     "output_type": "stream",
     "text": [
      "Hours,Scores\n",
      "2.5,21\n",
      "5.1,47\n",
      "3.2,27\n",
      "8.5,75\n",
      "3.5,30\n",
      "1.5,20\n",
      "9.2,88\n",
      "5.5,60\n",
      "8.3,81\n",
      "2.7,25\n",
      "7.7,85\n",
      "5.9,62\n",
      "4.5,41\n",
      "3.3,42\n",
      "1.1,17\n",
      "8.9,95\n",
      "2.5,30\n",
      "1.9,24\n",
      "6.1,67\n",
      "7.4,69\n",
      "2.7,30\n",
      "4.8,54\n",
      "3.8,35\n",
      "6.9,76\n",
      "7.8,86\n"
     ]
    }
   ],
   "source": [
    "with open('student_scores.csv') as f:\n",
    "    print(f.read())"
   ]
  },
  {
   "cell_type": "code",
   "execution_count": 21,
   "id": "2e2734be-03aa-4f37-8e40-6ffd1ef1bc3b",
   "metadata": {},
   "outputs": [],
   "source": [
    "dataset = np.genfromtxt('student_scores.csv',delimiter=',',skip_header=True)"
   ]
  },
  {
   "cell_type": "code",
   "execution_count": 22,
   "id": "a4835f0e-27e7-43bc-a5e4-ceb71d1662f7",
   "metadata": {},
   "outputs": [
    {
     "data": {
      "text/plain": [
       "(25, 2)"
      ]
     },
     "execution_count": 22,
     "metadata": {},
     "output_type": "execute_result"
    }
   ],
   "source": [
    "dataset.shape"
   ]
  },
  {
   "cell_type": "code",
   "execution_count": 23,
   "id": "e154a730-ea51-4aea-a517-4203fe8afbe0",
   "metadata": {},
   "outputs": [
    {
     "data": {
      "text/plain": [
       "array([[ 2.5, 21. ],\n",
       "       [ 5.1, 47. ],\n",
       "       [ 3.2, 27. ],\n",
       "       [ 8.5, 75. ],\n",
       "       [ 3.5, 30. ],\n",
       "       [ 1.5, 20. ],\n",
       "       [ 9.2, 88. ],\n",
       "       [ 5.5, 60. ],\n",
       "       [ 8.3, 81. ],\n",
       "       [ 2.7, 25. ],\n",
       "       [ 7.7, 85. ],\n",
       "       [ 5.9, 62. ],\n",
       "       [ 4.5, 41. ],\n",
       "       [ 3.3, 42. ],\n",
       "       [ 1.1, 17. ],\n",
       "       [ 8.9, 95. ],\n",
       "       [ 2.5, 30. ],\n",
       "       [ 1.9, 24. ],\n",
       "       [ 6.1, 67. ],\n",
       "       [ 7.4, 69. ],\n",
       "       [ 2.7, 30. ],\n",
       "       [ 4.8, 54. ],\n",
       "       [ 3.8, 35. ],\n",
       "       [ 6.9, 76. ],\n",
       "       [ 7.8, 86. ]])"
      ]
     },
     "execution_count": 23,
     "metadata": {},
     "output_type": "execute_result"
    }
   ],
   "source": [
    "dataset"
   ]
  },
  {
   "cell_type": "code",
   "execution_count": 25,
   "id": "8a0a622d-f200-4636-922b-ba6d187f2c10",
   "metadata": {},
   "outputs": [],
   "source": [
    "# average number of hours spent studying"
   ]
  },
  {
   "cell_type": "code",
   "execution_count": 26,
   "id": "3a9fa40b-b6ac-4185-83d0-b2372883566e",
   "metadata": {},
   "outputs": [],
   "source": [
    "hours = dataset[:,0]"
   ]
  },
  {
   "cell_type": "code",
   "execution_count": 28,
   "id": "67c0e832-f145-4bc9-9ae9-56be332d6bfc",
   "metadata": {},
   "outputs": [
    {
     "data": {
      "text/plain": [
       "5.012"
      ]
     },
     "execution_count": 28,
     "metadata": {},
     "output_type": "execute_result"
    }
   ],
   "source": [
    "avg_studeied_hours = np.average(hours)\n",
    "avg_studeied_hours"
   ]
  },
  {
   "cell_type": "code",
   "execution_count": 29,
   "id": "1e40945b-7972-47b4-b2e6-66c0a4f0aef4",
   "metadata": {},
   "outputs": [],
   "source": [
    "avg_studeied_hours = np.mean(hours)"
   ]
  },
  {
   "cell_type": "code",
   "execution_count": 30,
   "id": "d8422f1c-159c-4d24-bc65-5f6629acf441",
   "metadata": {},
   "outputs": [
    {
     "data": {
      "text/plain": [
       "5.012"
      ]
     },
     "execution_count": 30,
     "metadata": {},
     "output_type": "execute_result"
    }
   ],
   "source": [
    "avg_studeied_hours"
   ]
  },
  {
   "cell_type": "code",
   "execution_count": 32,
   "id": "38d6cb42-3990-4034-ad88-28fb5b682f8d",
   "metadata": {},
   "outputs": [
    {
     "data": {
      "text/plain": [
       "4.8"
      ]
     },
     "execution_count": 32,
     "metadata": {},
     "output_type": "execute_result"
    }
   ],
   "source": [
    "avg_studeied_hours= np.median(hours)\n",
    "avg_studeied_hours"
   ]
  },
  {
   "cell_type": "code",
   "execution_count": null,
   "id": "f263d58b-26fb-4c4c-b88a-3b3fd2ee35c9",
   "metadata": {},
   "outputs": [],
   "source": []
  }
 ],
 "metadata": {
  "kernelspec": {
   "display_name": "Python 3 (ipykernel)",
   "language": "python",
   "name": "python3"
  },
  "language_info": {
   "codemirror_mode": {
    "name": "ipython",
    "version": 3
   },
   "file_extension": ".py",
   "mimetype": "text/x-python",
   "name": "python",
   "nbconvert_exporter": "python",
   "pygments_lexer": "ipython3",
   "version": "3.9.5"
  }
 },
 "nbformat": 4,
 "nbformat_minor": 5
}
